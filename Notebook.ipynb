{
 "cells": [
  {
   "cell_type": "code",
   "execution_count": 1,
   "id": "326b0b64",
   "metadata": {},
   "outputs": [],
   "source": [
    "import os\n",
    "import tweepy\n",
    "\n",
    "import numpy as np\n",
    "import pandas as pd\n",
    "from sklearn.linear_model import LogisticRegression\n",
    "from sklearn.metrics import accuracy_score\n",
    "from xgboost import XGBClassifier\n",
    "\n",
    "import matplotlib.pyplot as plt\n",
    "import seaborn as sns\n",
    "\n",
    "t_consumer_key    = os.environ.get('t_consumer_key')\n",
    "t_consumer_secret = os.environ.get('t_consumer_secret')\n",
    "t_bearer_token    = os.environ.get('t_bearer_token')\n",
    "t_access_token    = os.environ.get('t_access_token')\n",
    "t_access_secret   = os.environ.get('t_access_secret')"
   ]
  },
  {
   "cell_type": "markdown",
   "id": "7c961c87",
   "metadata": {},
   "source": [
    "# Twitter API"
   ]
  },
  {
   "cell_type": "code",
   "execution_count": 69,
   "id": "cbdfd185",
   "metadata": {},
   "outputs": [],
   "source": [
    "day = 274\n",
    "wordle_day = 'Wordle ' + str(day)\n",
    "\n",
    "client = tweepy.Client(t_bearer_token)\n",
    "\n",
    "query = wordle_day + ' -is:retweet -Türkçe'\n",
    "#response = tweepy.Paginator(client.search_recent_tweets, query=query, max_results=10).flatten(limit=10)\n",
    "\n",
    "tweets = client.search_recent_tweets(query=query, max_results=100)"
   ]
  },
  {
   "cell_type": "markdown",
   "id": "47f69a88",
   "metadata": {},
   "source": [
    "# Parse Tweet\n",
    "\n",
    "Guess #1  &emsp;  ⬛⬛⬛🟩⬛  &emsp;→&emsp;  1  &emsp;  green    &emsp;  0  &emsp;  yellow  <br>\n",
    "Guess #2  &emsp;  🟨⬛⬛🟩⬛  &emsp;→&emsp;  1  &emsp;  green    &emsp;  1  &emsp;  yellow  <br>\n",
    "Guess #3  &emsp;  🟨🟨⬛🟩⬛  &emsp;→&emsp;  1  &emsp;  green    &emsp;  2  &emsp;  yellow  <br>\n",
    "Guess #4  &emsp;  ⬛🟨🟨🟩🟨  &emsp;→&emsp;  1  &emsp;  green    &emsp;  3  &emsp;  yellow  <br>\n",
    "Guess #5  &emsp;  🟩🟩🟩🟩🟩  &emsp;→&emsp;  5  &emsp;  green    &emsp;  0  &emsp;  yellow  <br>\n",
    "Guess #6  &emsp;  N/A &emsp;&emsp;&emsp;&emsp;&emsp;&emsp; →&emsp;N/A  &emsp;&emsp;&emsp;&emsp;    N/A"
   ]
  },
  {
   "cell_type": "code",
   "execution_count": 70,
   "id": "ea2284c2",
   "metadata": {},
   "outputs": [],
   "source": [
    "def API_to_DF(tweets):\n",
    "    df = pd.DataFrame(columns = ['completion', '#1_G', '#1_Y', '#2_G', '#2_Y', '#3_G', '#3_Y',\n",
    "                                           '#4_G', '#4_Y', '#5_G', '#5_Y', '#6_G', '#6_Y'])\n",
    "    for tweet in tweets.data:\n",
    "        df = df.reindex(df.index.tolist() + list(range(df.shape[0], df.shape[0]+1)))\n",
    "\n",
    "        # find the (start, end) of grid and extract grid\n",
    "        temp = [tweet.text.find('⬛'),tweet.text.find('⬜'),tweet.text.find('🟨'),tweet.text.find('🟩')]\n",
    "        if sum(temp) == -4:\n",
    "            pass\n",
    "        else:\n",
    "            l = min([i for i in temp if i >= 0])\n",
    "        r = max(tweet.text.rfind('⬛'), tweet.text.rfind('⬜'), tweet.text.rfind('🟨'), tweet.text.rfind('🟩'))\n",
    "        grid = tweet.text[l: r+1]\n",
    "\n",
    "        # grid max: 6*6=36. ignore tweets that have added additional wordle boxes\n",
    "        if (len(grid) +1) <= 36:\n",
    "\n",
    "            # store attempt in which the wordle was completed\n",
    "            df.iloc[-1, 0] = tweet.text[tweet.text.find('/6') - 1]\n",
    "\n",
    "            # parse through each guess of the wordle grid. tally green and yellow quantities\n",
    "            col = 1\n",
    "            guess_start = 0\n",
    "            grid_len = len(grid)\n",
    "\n",
    "            while guess_start < grid_len:        \n",
    "                guess = grid[guess_start: guess_start+5]\n",
    "\n",
    "                df.iloc[-1, col]   = guess.count('🟩')\n",
    "                df.iloc[-1, col+1] = guess.count('🟨') \n",
    "\n",
    "                col += 2\n",
    "                guess_start += 6\n",
    "                \n",
    "    df = df[df['#1_G'].notnull()]\n",
    "    df = df.astype({'#1_G':'float64','#1_Y':'float64','#2_G':'float64','#2_Y':'float64','#3_G':'float64','#3_Y':'float64',\n",
    "                    '#4_G':'float64','#4_Y':'float64','#5_G':'float64','#5_Y':'float64','#6_G':'float64','#6_Y':'float64',\n",
    "                    'completion':'category'})\n",
    "    return df\n",
    "\n",
    "# train-test split\n",
    "df = API_to_DF(tweets)\n",
    "split = int(0.80*df.shape[0])\n",
    "trn = df.iloc[:split, :]\n",
    "tst = df.iloc[split:, :]"
   ]
  },
  {
   "cell_type": "code",
   "execution_count": 88,
   "id": "5d0b0057",
   "metadata": {},
   "outputs": [
    {
     "data": {
      "text/plain": [
       "Text(0.5, 0, '# of Attempts')"
      ]
     },
     "execution_count": 88,
     "metadata": {},
     "output_type": "execute_result"
    },
    {
     "data": {
      "image/png": "[encoded data removed]",
      "text/plain": [
       "<Figure size 432x288 with 1 Axes>"
      ]
     },
     "metadata": {
      "needs_background": "light"
     },
     "output_type": "display_data"
    }
   ],
   "source": [
    "counts = df['completion'].value_counts().reindex(['1','2','3','4','5','6','X'], fill_value = 0 )\n",
    "\n",
    "plt.bar(counts.index.values, height=counts.values, color='blue', edgecolor='black')\n",
    "plt.title('Distribution of Wordle Completion Guess \\n' + wordle_day)\n",
    "plt.xlabel('# of Attempts')"
   ]
  },
  {
   "cell_type": "code",
   "execution_count": 94,
   "id": "afccc0bc",
   "metadata": {
    "scrolled": true
   },
   "outputs": [
    {
     "data": {
      "image/png": "[encoded data removed]",
      "text/plain": [
       "<Figure size 360x360 with 1 Axes>"
      ]
     },
     "metadata": {},
     "output_type": "display_data"
    }
   ],
   "source": [
    "def jitter(x, jitter):\n",
    "    return x + np.random.normal(loc=0, scale=jitter, size=x.shape)\n",
    "\n",
    "sns.set(rc={'axes.facecolor':'lightgray', 'figure.figsize':(5,5)})\n",
    "palette = {'1':'#33cc33', '2':'#29a329', '3':'#248f24', '4':'#1f7a1f', '5':'#145214', '6':'#0f3d0f', 'X':'#000000'}\n",
    "hue_order = ['1','2','3','4','5','6','X']\n",
    "\n",
    "plot = sns.scatterplot(x=jitter(df['#1_G'], 0.08), y=jitter(df['#1_Y'], 0.08), \n",
    "                       hue=df['completion'], palette=palette, hue_order=hue_order, s=150)\n",
    "\n",
    "plot.set_xlabel('Guess 1 - # Green', fontsize=12)\n",
    "plot.set_ylabel('Guess 1 - # Yellow', fontsize=12)\n",
    "plot.set_title('Starting Word Quality and Outcome', fontsize=16)\n",
    "\n",
    "plt.xticks([0,1,2,3,4,5])\n",
    "plt.yticks([0,1,2,3,4,5])\n",
    "plt.show(plot)"
   ]
  },
  {
   "cell_type": "markdown",
   "id": "7b51c976",
   "metadata": {},
   "source": [
    "# Multiclass Logistic Regression"
   ]
  },
  {
   "cell_type": "code",
   "execution_count": 72,
   "id": "d591b690",
   "metadata": {},
   "outputs": [
    {
     "name": "stdout",
     "output_type": "stream",
     "text": [
      "Train Accuracy:  37.88 %\n",
      "Test Accuracy:  41.18 %\n"
     ]
    }
   ],
   "source": [
    "lr = LogisticRegression(multi_class='multinomial')\n",
    "\n",
    "y_trn = trn['completion']\n",
    "x_trn = trn[['#1_G','#1_Y']]\n",
    "\n",
    "y_tst = tst['completion']\n",
    "x_tst = tst[['#1_G','#1_Y']]\n",
    "\n",
    "lr.fit(x_trn, y_trn)\n",
    "\n",
    "y_trn_hat = lr.predict(x_trn)\n",
    "print('Train Accuracy: ', round(100*accuracy_score(y_trn, y_trn_hat), 2), '%')\n",
    "\n",
    "\n",
    "y_tst_hat = lr.predict(x_tst)\n",
    "print('Test Accuracy: ', round(100*accuracy_score(y_tst, y_tst_hat), 2), '%')"
   ]
  },
  {
   "cell_type": "code",
   "execution_count": 96,
   "id": "3c2d7e24",
   "metadata": {},
   "outputs": [
    {
     "name": "stdout",
     "output_type": "stream",
     "text": [
      "Completion predictions given quality of first guess\n",
      "Y | 0G, 0Y:  5 guesses\n",
      "Y | 1G, 0Y:  4 guesses\n",
      "Y | 1G, 1Y:  4 guesses\n",
      "Y | 2G, 1Y:  3 guesses\n",
      "Y | 3G, 0Y:  4 guesses\n",
      "Y | 5G, 0Y:  1 guesses\n",
      "\n",
      "Nonsensical Results:\n",
      "Y | 4G, 0Y:  1 guesses\n",
      "Y | 4G, 1Y:  3 guesses\n"
     ]
    }
   ],
   "source": [
    "print('Completion predictions given quality of first guess')\n",
    "print('Y | 0G, 0Y: ', lr.predict(pd.DataFrame([{'#1_G':0, '#1_Y':0}]))[0], 'guesses')\n",
    "print('Y | 1G, 0Y: ', lr.predict(pd.DataFrame([{'#1_G':1, '#1_Y':0}]))[0], 'guesses')\n",
    "print('Y | 1G, 1Y: ', lr.predict(pd.DataFrame([{'#1_G':1, '#1_Y':1}]))[0], 'guesses')\n",
    "print('Y | 2G, 1Y: ', lr.predict(pd.DataFrame([{'#1_G':2, '#1_Y':1}]))[0], 'guesses')\n",
    "print('Y | 3G, 0Y: ', lr.predict(pd.DataFrame([{'#1_G':3, '#1_Y':0}]))[0], 'guesses')\n",
    "print('Y | 5G, 0Y: ', lr.predict(pd.DataFrame([{'#1_G':5, '#1_Y':0}]))[0], 'guesses')\n",
    "\n",
    "print('\\nNonsensical Results:')\n",
    "print('Y | 4G, 0Y: ', lr.predict(pd.DataFrame([{'#1_G':4, '#1_Y':0}]))[0], 'guesses')\n",
    "print('Y | 4G, 1Y: ', lr.predict(pd.DataFrame([{'#1_G':4, '#1_Y':1}]))[0], 'guesses')"
   ]
  },
  {
   "cell_type": "markdown",
   "id": "632ad22a",
   "metadata": {},
   "source": [
    "# XGBoost"
   ]
  },
  {
   "cell_type": "code",
   "execution_count": 95,
   "id": "daafb656",
   "metadata": {},
   "outputs": [],
   "source": [
    "# one-hot encoding of the categorical\n",
    "#x_trn_e = pd.get_dummies(x_trn, columns=['completion'])\n",
    "#y_trn_e = pd.get_dummies(y_trn, columns=['completion'])"
   ]
  },
  {
   "cell_type": "code",
   "execution_count": 85,
   "id": "e3bdbae8",
   "metadata": {},
   "outputs": [],
   "source": [
    "bst = XGBClassifier(objective='multi:softmax')\n",
    "bst.fit =(x_trn, y_trn)\n",
    "bst.predict(x_tst)"
   ]
  }
 ],
 "metadata": {
  "kernelspec": {
   "display_name": "Python 3",
   "language": "python",
   "name": "python3"
  },
  "language_info": {
   "codemirror_mode": {
    "name": "ipython",
    "version": 3
   },
   "file_extension": ".py",
   "mimetype": "text/x-python",
   "name": "python",
   "nbconvert_exporter": "python",
   "pygments_lexer": "ipython3",
   "version": "3.8.8"
  }
 },
 "nbformat": 4,
 "nbformat_minor": 5
}
