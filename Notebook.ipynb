{
 "cells": [
  {
   "cell_type": "markdown",
   "id": "869c6e4f",
   "metadata": {},
   "source": [
    "# Investigating Wordle Data with Twitter API v2\n",
    "\n",
    "This is an investigation of Wordle data available in tweets through the Twitter API. More specifically, how does the quality of a user's first guess affect the predicted final guess in which they complete the puzzle? First, the most recent 100 tweets were parsed to create a data frame. Then, three prediction methods were used to evaluate the outcome - kNN, logistic regression, and XGBoost.\n",
    "\n",
    "\n",
    "Guess #1  &emsp;  ⬛⬛⬛🟩⬛  &emsp;→&emsp;  1  &emsp;  green    &emsp;  0  &emsp;  yellow  <br>\n",
    "Guess #2  &emsp;  🟨⬛⬛🟩⬛  &emsp;→&emsp;  1  &emsp;  green    &emsp;  1  &emsp;  yellow  <br>\n",
    "Guess #3  &emsp;  🟨🟨⬛🟩⬛  &emsp;→&emsp;  1  &emsp;  green    &emsp;  2  &emsp;  yellow  <br>\n",
    "Guess #4  &emsp;  ⬛🟨🟨🟩🟨  &emsp;→&emsp;  1  &emsp;  green    &emsp;  3  &emsp;  yellow  <br>\n",
    "Guess #5  &emsp;  🟩🟩🟩🟩🟩  &emsp;→&emsp;  5  &emsp;  green    &emsp;  0  &emsp;  yellow  <br>\n",
    "Guess #6  &emsp;  N/A &emsp;&emsp;&emsp;&emsp;&emsp;&emsp; →&emsp;N/A  &emsp;&emsp;&emsp;&emsp;    N/A"
   ]
  },
  {
   "cell_type": "code",
   "execution_count": 3,
   "id": "326b0b64",
   "metadata": {},
   "outputs": [],
   "source": [
    "import os\n",
    "import tweepy\n",
    "\n",
    "import numpy as np\n",
    "import pandas as pd\n",
    "from sklearn.linear_model import LogisticRegression\n",
    "from sklearn.metrics import accuracy_score\n",
    "from sklearn.neighbors import KNeighborsClassifier\n",
    "from sklearn.model_selection import GridSearchCV\n",
    "from xgboost import XGBClassifier\n",
    "\n",
    "import matplotlib.pyplot as plt\n",
    "import seaborn as sns\n",
    "\n",
    "t_consumer_key    = os.environ.get('t_consumer_key')\n",
    "t_consumer_secret = os.environ.get('t_consumer_secret')\n",
    "t_bearer_token    = os.environ.get('t_bearer_token')\n",
    "t_access_token    = os.environ.get('t_access_token')\n",
    "t_access_secret   = os.environ.get('t_access_secret')"
   ]
  },
  {
   "cell_type": "markdown",
   "id": "7c961c87",
   "metadata": {},
   "source": [
    "### Twitter API"
   ]
  },
  {
   "cell_type": "code",
   "execution_count": 58,
   "id": "cbdfd185",
   "metadata": {},
   "outputs": [],
   "source": [
    "wordle_day = 'Wordle 282'   #3/28/2022\n",
    "client = tweepy.Client(t_bearer_token)\n",
    "\n",
    "query = wordle_day + ' -is:retweet -Türkçe'\n",
    "#tweets = tweepy.Paginator(client.search_recent_tweets, query=query, max_results=10).flatten(limit=10)\n",
    "\n",
    "tweets = client.search_recent_tweets(query=query, max_results=100)"
   ]
  },
  {
   "cell_type": "markdown",
   "id": "47f69a88",
   "metadata": {},
   "source": [
    "### Parse Tweet\n"
   ]
  },
  {
   "cell_type": "code",
   "execution_count": 59,
   "id": "ea2284c2",
   "metadata": {},
   "outputs": [],
   "source": [
    "def API_to_DF(tweets):\n",
    "    df = pd.DataFrame(columns = ['completion', '#1_G', '#1_Y', '#2_G', '#2_Y', '#3_G', '#3_Y',\n",
    "                                           '#4_G', '#4_Y', '#5_G', '#5_Y', '#6_G', '#6_Y'])\n",
    "    for tweet in tweets.data:\n",
    "        df = df.reindex(df.index.tolist() + list(range(df.shape[0], df.shape[0]+1)))\n",
    "\n",
    "        # find the (start, end) of grid and extract grid\n",
    "        temp = [tweet.text.find('⬛'),tweet.text.find('⬜'),tweet.text.find('🟨'),tweet.text.find('🟩')]\n",
    "        if sum(temp) == -4:\n",
    "            pass\n",
    "        else:\n",
    "            l = min([i for i in temp if i >= 0])\n",
    "        r = max(tweet.text.rfind('⬛'), tweet.text.rfind('⬜'), tweet.text.rfind('🟨'), tweet.text.rfind('🟩'))\n",
    "        grid = tweet.text[l: r+1]\n",
    "\n",
    "        # grid max: 6*6=36. ignore tweets that have added additional wordle boxes\n",
    "        if (len(grid) +1) <= 36:\n",
    "\n",
    "            # store attempt in which the wordle was completed\n",
    "            df.iloc[-1, 0] = tweet.text[tweet.text.find('/6') - 1]\n",
    "\n",
    "            # parse through each guess of the wordle grid. tally green and yellow quantities\n",
    "            col = 1\n",
    "            guess_start = 0\n",
    "            grid_len = len(grid)\n",
    "\n",
    "            while guess_start < grid_len:        \n",
    "                guess = grid[guess_start: guess_start+5]\n",
    "\n",
    "                df.iloc[-1, col]   = guess.count('🟩')\n",
    "                df.iloc[-1, col+1] = guess.count('🟨') \n",
    "\n",
    "                col += 2\n",
    "                guess_start += 6\n",
    "                \n",
    "    df = df[df['#1_G'].notnull()]\n",
    "    df = df[df['completion'].isin(['1','2','3','4','5','6'])]\n",
    "    df = df.astype({'#1_G':'float64','#1_Y':'float64','#2_G':'float64','#2_Y':'float64','#3_G':'float64','#3_Y':'float64',\n",
    "                    '#4_G':'float64','#4_Y':'float64','#5_G':'float64','#5_Y':'float64','#6_G':'float64','#6_Y':'float64',\n",
    "                    'completion':'category'})\n",
    "    return df\n",
    "\n",
    "df = API_to_DF(tweets)"
   ]
  },
  {
   "cell_type": "markdown",
   "id": "fc72f8cb",
   "metadata": {},
   "source": [
    "### Train-Test Split"
   ]
  },
  {
   "cell_type": "code",
   "execution_count": 60,
   "id": "5f24afe6",
   "metadata": {},
   "outputs": [],
   "source": [
    "split = int(0.80*df.shape[0])\n",
    "df_trn = df.iloc[:split, :]\n",
    "df_tst = df.iloc[split:, :]\n",
    "\n",
    "y_trn = df_trn['completion']\n",
    "x_trn = df_trn[['#1_G','#1_Y']]\n",
    "\n",
    "y_tst = df_tst['completion']\n",
    "x_tst = df_tst[['#1_G','#1_Y']]"
   ]
  },
  {
   "cell_type": "markdown",
   "id": "46fceee5",
   "metadata": {},
   "source": [
    "### Visualization of Training Data"
   ]
  },
  {
   "cell_type": "code",
   "execution_count": 61,
   "id": "5d0b0057",
   "metadata": {},
   "outputs": [
    {
     "data": {
      "image/png": "[encoded data removed]",
      "text/plain": [
       "<Figure size 360x360 with 1 Axes>"
      ]
     },
     "metadata": {},
     "output_type": "display_data"
    }
   ],
   "source": [
    "counts = df_trn['completion'].value_counts().reindex(['1','2','3','4','5','6','X'], fill_value = 0 )\n",
    "\n",
    "sns.set(rc={'axes.facecolor':'lightgray', 'figure.figsize':(5,5)})\n",
    "plt.bar(counts.index.values, height=counts.values, color='blue', edgecolor='black')\n",
    "plt.title('Distribution of Wordle Completion Guess \\n' + wordle_day)\n",
    "plt.xlabel('Guess to Completion')\n",
    "plt.ylabel('Quantity of Users')\n",
    "plt.show()"
   ]
  },
  {
   "cell_type": "code",
   "execution_count": 73,
   "id": "afccc0bc",
   "metadata": {
    "scrolled": true
   },
   "outputs": [
    {
     "data": {
      "image/png": "[encoded data removed]",
      "text/plain": [
       "<Figure size 360x360 with 1 Axes>"
      ]
     },
     "metadata": {},
     "output_type": "display_data"
    }
   ],
   "source": [
    "def jitter(x, jitter):\n",
    "    return x + np.random.normal(loc=0, scale=jitter, size=x.shape)\n",
    "\n",
    "sns.set(rc={'axes.facecolor':'lightgray', 'figure.figsize':(5,5)})\n",
    "palette = {'1':'#33cc33', '2':'#29a329', '3':'#248f24', '4':'#1f7a1f', '5':'#145214', '6':'#0f3d0f', 'X':'#000000'}\n",
    "hue_order = ['1','2','3','4','5','6','X']\n",
    "\n",
    "plot = sns.scatterplot(x=jitter(df_trn['#1_G'], 0.08), y=jitter(df_trn['#1_Y'], 0.08), \n",
    "                       hue=df_trn['completion'], palette=palette, hue_order=hue_order, s=150)\n",
    "\n",
    "plot.set_xlabel('Qty Green Letters in First Guess', fontsize=12)\n",
    "plot.set_ylabel('Qty Yellow Letters in First Guess', fontsize=12)\n",
    "plot.set_title('Starting Word Quality and Outcome', fontsize=16)\n",
    "\n",
    "plt.xticks([0,1,2,3,4,5])\n",
    "plt.yticks([0,1,2,3,4,5])\n",
    "plt.show(plot)"
   ]
  },
  {
   "cell_type": "markdown",
   "id": "d01a22c4",
   "metadata": {},
   "source": [
    "### kNN Classification\n",
    "\n",
    "We begin with 10 nearest neighbors, without justification."
   ]
  },
  {
   "cell_type": "code",
   "execution_count": 63,
   "id": "1954e568",
   "metadata": {},
   "outputs": [
    {
     "name": "stdout",
     "output_type": "stream",
     "text": [
      "Train Accuracy:  33.87 %\n"
     ]
    }
   ],
   "source": [
    "kNN = KNeighborsClassifier(n_neighbors=10)\n",
    "kNN.fit(x_trn, y_trn)\n",
    "y_trn_hat = kNN.predict(x_trn)\n",
    "\n",
    "print('Train Accuracy: ', round(100*accuracy_score(y_trn, y_trn_hat), 2), '%')"
   ]
  },
  {
   "cell_type": "markdown",
   "id": "5fe37695",
   "metadata": {},
   "source": [
    "Cross validation is now used to select a value k which minimizes estimated test error."
   ]
  },
  {
   "cell_type": "code",
   "execution_count": 65,
   "id": "9157f6c7",
   "metadata": {},
   "outputs": [
    {
     "name": "stderr",
     "output_type": "stream",
     "text": [
      "C:\\Users\\aheilman\\Anaconda3\\lib\\site-packages\\sklearn\\model_selection\\_split.py:666: UserWarning: The least populated class in y has only 1 members, which is less than n_splits=5.\n",
      "  warnings.warn((\"The least populated class in y has only %d\"\n"
     ]
    },
    {
     "data": {
      "image/png": "[encoded data removed]",
      "text/plain": [
       "<Figure size 360x360 with 1 Axes>"
      ]
     },
     "metadata": {},
     "output_type": "display_data"
    }
   ],
   "source": [
    "k_range = range(1,21)\n",
    "\n",
    "kNN = KNeighborsClassifier()\n",
    "kNN_CV = GridSearchCV(kNN, {'n_neighbors': k_range}, cv=5)\n",
    "kNN_CV.fit(x_trn, y_trn)\n",
    "\n",
    "best_k = kNN_CV.best_params_['n_neighbors']\n",
    "results = kNN_CV.cv_results_['mean_test_score']\n",
    "\n",
    "plot = sns.scatterplot(x=k_range, y=results, s=100)\n",
    "plot.vlines(best_k, 0, 0.7, color='r')\n",
    "plot.axhline(max(results), color='r')\n",
    "\n",
    "plot.set_xlabel('Number of Neighbors', fontsize=12)\n",
    "plot.set_ylabel('Estimated Test Accuracy', fontsize=12)\n",
    "plot.set_title('Choose Number of Neighbors', fontsize=16)\n",
    "\n",
    "plt.xticks(k_range)\n",
    "plt.yticks([0.0, 0.1, 0.2, 0.3, 0.4, 0.5, 0.6, 0.7])\n",
    "plt.show(plot)"
   ]
  },
  {
   "cell_type": "code",
   "execution_count": 66,
   "id": "cef51ec4",
   "metadata": {},
   "outputs": [
    {
     "name": "stdout",
     "output_type": "stream",
     "text": [
      "Train Accuracy:  37.1 %\n",
      "Test Accuracy:  31.25 %\n"
     ]
    }
   ],
   "source": [
    "y_trn_hat = kNN_CV.predict(x_trn)\n",
    "print('Train Accuracy: ', round(100*accuracy_score(y_trn, y_trn_hat), 2), '%')\n",
    "\n",
    "y_tst_hat = kNN_CV.predict(x_tst)\n",
    "print('Test Accuracy: ', round(100*accuracy_score(y_tst, y_tst_hat), 2), '%')"
   ]
  },
  {
   "cell_type": "markdown",
   "id": "7b51c976",
   "metadata": {},
   "source": [
    "### Multiclass Logistic Regression"
   ]
  },
  {
   "cell_type": "code",
   "execution_count": 67,
   "id": "d591b690",
   "metadata": {},
   "outputs": [
    {
     "name": "stdout",
     "output_type": "stream",
     "text": [
      "Train Accuracy:  37.1 %\n",
      "Test Accuracy:  50.0 %\n"
     ]
    }
   ],
   "source": [
    "lr = LogisticRegression(multi_class='multinomial')\n",
    "lr.fit(x_trn, y_trn)\n",
    "\n",
    "y_trn_hat = lr.predict(x_trn)\n",
    "print('Train Accuracy: ', round(100*accuracy_score(y_trn, y_trn_hat), 2), '%')\n",
    "\n",
    "y_tst_hat = lr.predict(x_tst)\n",
    "print('Test Accuracy: ', round(100*accuracy_score(y_tst, y_tst_hat), 2), '%')"
   ]
  },
  {
   "cell_type": "code",
   "execution_count": 71,
   "id": "3c2d7e24",
   "metadata": {},
   "outputs": [
    {
     "name": "stdout",
     "output_type": "stream",
     "text": [
      "Completion predictions given quality of first guess\n",
      "Y | 0G, 0Y:  4 guesses\n",
      "Y | 1G, 0Y:  3 guesses\n",
      "Y | 1G, 1Y:  6 guesses\n",
      "Y | 2G, 1Y:  5 guesses\n",
      "Y | 3G, 0Y:  3 guesses\n",
      "Y | 5G, 0Y:  1 guesses\n",
      "\n",
      "Nonsensical Result:\n",
      "Y | 4G, 1Y:  5 guesses\n"
     ]
    }
   ],
   "source": [
    "print('Completion predictions given quality of first guess')\n",
    "print('Y | 0G, 0Y: ', lr.predict(pd.DataFrame([{'#1_G':0, '#1_Y':0}]))[0], 'guesses')\n",
    "print('Y | 1G, 0Y: ', lr.predict(pd.DataFrame([{'#1_G':1, '#1_Y':0}]))[0], 'guesses')\n",
    "print('Y | 1G, 1Y: ', lr.predict(pd.DataFrame([{'#1_G':1, '#1_Y':1}]))[0], 'guesses')\n",
    "print('Y | 2G, 1Y: ', lr.predict(pd.DataFrame([{'#1_G':2, '#1_Y':1}]))[0], 'guesses')\n",
    "print('Y | 3G, 0Y: ', lr.predict(pd.DataFrame([{'#1_G':3, '#1_Y':0}]))[0], 'guesses')\n",
    "print('Y | 5G, 0Y: ', lr.predict(pd.DataFrame([{'#1_G':5, '#1_Y':0}]))[0], 'guesses')\n",
    "\n",
    "print('\\nNonsensical Result:')\n",
    "print('Y | 4G, 1Y: ', lr.predict(pd.DataFrame([{'#1_G':4, '#1_Y':1}]))[0], 'guesses')"
   ]
  },
  {
   "cell_type": "markdown",
   "id": "632ad22a",
   "metadata": {},
   "source": [
    "### XGBoost"
   ]
  },
  {
   "cell_type": "code",
   "execution_count": 72,
   "id": "e3bdbae8",
   "metadata": {},
   "outputs": [
    {
     "name": "stdout",
     "output_type": "stream",
     "text": [
      "Train Accuracy:  41.94 %\n",
      "Test Accuracy:  37.5 %\n"
     ]
    },
    {
     "name": "stderr",
     "output_type": "stream",
     "text": [
      "C:\\Users\\aheilman\\Anaconda3\\lib\\site-packages\\xgboost\\sklearn.py:1224: UserWarning: The use of label encoder in XGBClassifier is deprecated and will be removed in a future release. To remove this warning, do the following: 1) Pass option use_label_encoder=False when constructing XGBClassifier object; and 2) Encode your labels (y) as integers starting with 0, i.e. 0, 1, 2, ..., [num_class - 1].\n",
      "  warnings.warn(label_encoder_deprecation_msg, UserWarning)\n"
     ]
    }
   ],
   "source": [
    "y_trn = y_trn.replace(to_replace='X', value=7)\n",
    "\n",
    "bst = XGBClassifier(objective='multi:softmax', eval_metric='merror', use_label_encoder=True)\n",
    "bst.fit(x_trn, y_trn)\n",
    "\n",
    "y_trn_hat = bst.predict(x_trn)\n",
    "print('Train Accuracy: ', round(100*accuracy_score(y_trn, y_trn_hat), 2), '%')\n",
    "\n",
    "y_tst_hat = bst.predict(x_tst)\n",
    "print('Test Accuracy: ', round(100*accuracy_score(y_tst, y_tst_hat), 2), '%')"
   ]
  },
  {
   "cell_type": "code",
   "execution_count": null,
   "id": "1c52fc28",
   "metadata": {},
   "outputs": [],
   "source": []
  }
 ],
 "metadata": {
  "kernelspec": {
   "display_name": "Python 3",
   "language": "python",
   "name": "python3"
  },
  "language_info": {
   "codemirror_mode": {
    "name": "ipython",
    "version": 3
   },
   "file_extension": ".py",
   "mimetype": "text/x-python",
   "name": "python",
   "nbconvert_exporter": "python",
   "pygments_lexer": "ipython3",
   "version": "3.8.8"
  }
 },
 "nbformat": 4,
 "nbformat_minor": 5
}
